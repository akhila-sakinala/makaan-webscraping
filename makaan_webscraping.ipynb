{
  "nbformat": 4,
  "nbformat_minor": 0,
  "metadata": {
    "colab": {
      "name": "makaan-webscraping.ipynb",
      "provenance": [],
      "collapsed_sections": [],
      "authorship_tag": "ABX9TyOk0T3xtk9yvV4E0a4vuKfh",
      "include_colab_link": true
    },
    "kernelspec": {
      "name": "python3",
      "display_name": "Python 3"
    }
  },
  "cells": [
    {
      "cell_type": "markdown",
      "metadata": {
        "id": "view-in-github",
        "colab_type": "text"
      },
      "source": [
        "<a href=\"https://colab.research.google.com/github/akhila-sakinala/makaan-webscraping/blob/main/makaan_webscraping.ipynb\" target=\"_parent\"><img src=\"https://colab.research.google.com/assets/colab-badge.svg\" alt=\"Open In Colab\"/></a>"
      ]
    },
    {
      "cell_type": "markdown",
      "metadata": {
        "id": "up-AE6_-ysCr"
      },
      "source": [
        "## Import packages"
      ]
    },
    {
      "cell_type": "code",
      "metadata": {
        "id": "cDrxUSkyymLJ"
      },
      "source": [
        "# import packages\n",
        "import requests\n",
        "from bs4 import BeautifulSoup\n",
        "import pandas as pd\n",
        "\n"
      ],
      "execution_count": 73,
      "outputs": []
    },
    {
      "cell_type": "code",
      "metadata": {
        "id": "9OaIH_0PzKtr",
        "colab": {
          "base_uri": "https://localhost:8080/"
        },
        "outputId": "693d08b3-77b0-4917-e143-0d89af08d2e0"
      },
      "source": [
        "url = \"https://www.makaan.com/hyderabad-residential-property/rent-property-in-hyderabad-city\"\n",
        "\n",
        "# Store 20 page url's\n",
        "urls = []\n",
        "for i in range(20):\n",
        "  each_url = url+'?page='+str(i)\n",
        "  urls.append(each_url)\n",
        "\n",
        "site_owner_data = []\n",
        "price_data = []\n",
        "size_data = []\n",
        "price_data = []\n",
        "status_data = []\n",
        "desc_data = []\n",
        "\n",
        "for page_url in urls:\n",
        "  response = requests.get(page_url)\n",
        "  soup = BeautifulSoup(response.text,\"html.parser\")\n",
        "  s_tag = soup.find_all('span',attrs={'class' : 'seller-type'})\n",
        "  s_val = soup.find_all('a',attrs={'class' : 'typelink'})\n",
        "  size = soup.find_all('td',attrs={'class' : 'size'})\n",
        "  p_val = soup.find_all('span',attrs={'itemprop' : 'offers'})\n",
        "  status_val = soup.find_all('tr',attrs={'class' : 'hcol w44'})\n",
        "  desc = soup.find_all('div',attrs={'class': 'txt'})\n",
        "\n",
        "  for each_owner in s_tag:\n",
        "    site_owner_data.append(each_owner.text)\n",
        "  \n",
        "  for price in s_val:\n",
        "    price_data.append(price.span.text)\n",
        "\n",
        "  for each_size in size:\n",
        "    size_data.append(each_size.span.text)\n",
        "  \n",
        "  for price in p_val:\n",
        "    price_data.append(price.text)\n",
        "\n",
        "  for status in status_val:\n",
        "    status_data.append(status.td.text)\n",
        "\n",
        "  for each_desc in desc:\n",
        "    desc_data.append(each_desc.text)\n",
        "\n",
        "# print(len(status_data))\n",
        "# print(len(desc_data))\n",
        "# print(len(size_data))\n",
        "# print(len(price_data))\n",
        "# print(len(site_owner_data))\n",
        "\n",
        "data = pd.DataFrame({'Seller_info':site_owner_data,\n",
        "              'Area':size_data,\n",
        "              'Status':status_data})\n",
        "\n",
        "data.to_csv(\"scrape_data.csv\")\n"
      ],
      "execution_count": 78,
      "outputs": [
        {
          "output_type": "stream",
          "text": [
            "400\n",
            "399\n",
            "400\n",
            "800\n",
            "400\n"
          ],
          "name": "stdout"
        }
      ]
    },
    {
      "cell_type": "code",
      "metadata": {
        "id": "UCUT4dgE1iWB"
      },
      "source": [
        ""
      ],
      "execution_count": 61,
      "outputs": []
    },
    {
      "cell_type": "markdown",
      "metadata": {
        "id": "sOGOOwUrDDF4"
      },
      "source": [
        ""
      ]
    },
    {
      "cell_type": "code",
      "metadata": {
        "id": "2iW0mExf3K1p"
      },
      "source": [
        ""
      ],
      "execution_count": 62,
      "outputs": []
    },
    {
      "cell_type": "code",
      "metadata": {
        "id": "BmoueXSj5XXY"
      },
      "source": [
        ""
      ],
      "execution_count": 63,
      "outputs": []
    },
    {
      "cell_type": "code",
      "metadata": {
        "id": "xlWxkmtr6oEB"
      },
      "source": [
        ""
      ],
      "execution_count": 64,
      "outputs": []
    },
    {
      "cell_type": "code",
      "metadata": {
        "id": "3OTYcyrY6pah"
      },
      "source": [
        ""
      ],
      "execution_count": 65,
      "outputs": []
    },
    {
      "cell_type": "code",
      "metadata": {
        "id": "0tFwIRumshEe"
      },
      "source": [
        ""
      ],
      "execution_count": 66,
      "outputs": []
    },
    {
      "cell_type": "code",
      "metadata": {
        "id": "f0uG627Qst5D"
      },
      "source": [
        ""
      ],
      "execution_count": 67,
      "outputs": []
    },
    {
      "cell_type": "code",
      "metadata": {
        "id": "0Nv-gWRtvO8s"
      },
      "source": [
        ""
      ],
      "execution_count": 68,
      "outputs": []
    },
    {
      "cell_type": "code",
      "metadata": {
        "id": "ct1hW6axwHAE"
      },
      "source": [
        ""
      ],
      "execution_count": 69,
      "outputs": []
    },
    {
      "cell_type": "code",
      "metadata": {
        "colab": {
          "base_uri": "https://localhost:8080/"
        },
        "id": "-tlukdJv0NQf",
        "outputId": "65f5ecb7-f463-4535-a081-902966db1090"
      },
      "source": [
        ""
      ],
      "execution_count": 70,
      "outputs": [
        {
          "output_type": "stream",
          "text": [
            "['Semi-Furnished', 'Semi-Furnished', 'Semi-Furnished', 'Semi-Furnished', 'Semi-Furnished', 'Furnished', 'Furnished', 'Semi-Furnished', 'Semi-Furnished', 'Semi-Furnished', 'Semi-Furnished', 'Semi-Furnished', 'Semi-Furnished', 'Semi-Furnished', 'Semi-Furnished', 'Semi-Furnished', 'Semi-Furnished', 'Semi-Furnished', 'Semi-Furnished', 'Furnished']\n"
          ],
          "name": "stdout"
        }
      ]
    },
    {
      "cell_type": "code",
      "metadata": {
        "id": "klNGhQK70j05"
      },
      "source": [
        ""
      ],
      "execution_count": 41,
      "outputs": []
    },
    {
      "cell_type": "code",
      "metadata": {
        "colab": {
          "base_uri": "https://localhost:8080/"
        },
        "id": "2p64yYK61zcK",
        "outputId": "d3228ead-b8eb-491d-8643-e9ed8992ece9"
      },
      "source": [
        ""
      ],
      "execution_count": 42,
      "outputs": [
        {
          "output_type": "stream",
          "text": [
            "['1 BHK Rental Property in Hitech City Hyderabad:This spacious 1 bhk multistorey apartment is available for rental and is located in Aditya Construction Eternia, one of the most prestigious projects of Hitech City. It has area of 1500 sqft and is av...Developed by Aditya Construction', '2 BHK Rental Property in Musheerabad Hyderabad:A spacious 2 bhk independent house is available for rental in Musheerabad, Hyderabad. It has a built-up area of 850 sqft and is available for rent at Rs. 12,000 per month . The house is unfurnished. I...', '3 BHK Rental Property in Hafeezpet Hyderabad:This spacious 3 bhk multistorey apartment is available for rental and is located in the heart of Hafeezpet. It has an area of 1760 sqft . The property is available at a monthly rental of Rs. 25,000 . ...', '4 BHK Rental Property in Kukatpally Hyderabad:Itâ\\x80\\x99s a 4 bhk multistorey apartment situated in Kukatpally. It has an area of 2250 sqft . The property is available at a monthly rental of Rs. 36,000 . This residential property is ready-to-move-in. Th...', '2 BHK Rental Property in Kukatpally Hyderabad:This spacious 2 bhk multistorey apartment is available for rental and is located in Swaraj Homes Malaysian Township Apartments, one of the most prestigious projects of Kukatpally. It has an area of 10...Developed by Swaraj Homes', '2 BHK Rental Property in Serilingampally Hyderabad:Itâ\\x80\\x99s a 2 bhk multistorey apartment situated in Serilingampally, Hyderabad. It has area of 1140 sqft and is available at a rent of Rs. 16,000. Furnishings include 1 tv, 1 refrigerator, 1 washing machin...', '1 BHK Rental Property in B N reddy nagar Hyderabad:Well designed 1 bhk builder floor is available at a prime location in B N reddy nagar. It has area of 650 sqft and is available at a rent of Rs. 7,000. It is an unfurnished property. It is a ready-to-...', '1 RK Rental Property in Serilingampally Hyderabad:Well designed 1 rk multistorey apartment is available at a prime location in Serilingampally. It is a ready-to-move-in property. It is made in way to provide a comfortable living for the residents. It...', '1 BHK Rental Property in Nagole Hyderabad:Well designed 1 bhk independent house is available at a prime location in Nagole. It has an area of 700 sqft . The property is available at a monthly rental of Rs. 9,000 . It is facing east direction....', '2 BHK Rental Property in Tellapur Hyderabad:Itâ\\x80\\x99s a 2 bhk independent house situated in Tellapur, Hyderabad. It has an area of 720 sqft . The property is available at a monthly rental of Rs. 9,000 . The house is unfurnished. It is a ready-to-mov...', '2 BHK Rental Property in KPHB Hyderabad:Well designed 2 bhk multistorey apartment is available at a prime location in Ravi Nivas. It has an area of 1100 sqft . The property is available at a monthly rental of Rs. 13,000 . It is an unfurnish...', '3 BHK Rental Property in Pocharam Hyderabad:This spacious 3 bhk multistorey apartment is available for rental and is located in Modi Builders And Realtors Emerald Heights, one of the most prestigious projects of Pocharam. It has area of 1360 sq...Developed by Modi Builders And Realtors', '4 BHK Rental Property in Kokapet Hyderabad:Well designed 4 bhk villa is available at a prime location in Pavani Groups Boulevard. It has area of 4020 sqft and is available at a rent of Rs. 1.10 lac. The house is furnished. This residential pro...Developed by Pavani Groups', '3 BHK Rental Property in Karkhana Hyderabad:A 3 bhk property is available for rent in Karkhana, Hyderabad. It has an area of 3600 sqft . The property is available at a monthly rental of Rs. 36,000 . The house is furnished. Furnishings include 1...', \"1 BHK Rental Property in Moti Nagar Hyderabad:This spacious 1 bhk independent house is available for rental and is located in the heart of Moti Nagar. This residential property is ready-to-move-in. The time you'll spend here will become the great...\", '2 BHK Rental Property in Nizampet Hyderabad:Itâ\\x80\\x99s a 2 bhk multistorey apartment situated in Nizampet, Hyderabad. It has an area of 1140 sqft . The property is available at a monthly rental of Rs. 15,000 . It is a semi-furnished property. It is f...', '2 BHK Rental Property in Serilingampally Hyderabad:Itâ\\x80\\x99s a 2 bhk independent house situated in Serilingampally. It has an area of 1100 sqft with a carpet area of 1100 sqft . The property is available at a monthly rental of Rs. 13,500 . It is an unfurni...', '2 BHK Rental Property in Raji Reddy Nagar Hyderabad:A spacious 2 bhk independent house is available for rental in Raji Reddy Nagar, Hyderabad. It has an area of 1250 sqft . The property is available at a monthly rental of Rs. 12,000 . It is an unfurnis...', \"2 BHK Rental Property in Medchal Hyderabad:Itâ\\x80\\x99s a 2 bhk builder floor situated in Medchal, Hyderabad. It is an unfurnished property. This residential property is ready-to-move-in. The time you'll spend here will become the greatest moment of y...\", '2 BHK Rental Property in Kondapur Hyderabad:A 2 bhk property is available for rent in Kondapur, Hyderabad. It has an area of 1300 sqft . The property is available at a monthly rental of Rs. 18,000 . It is a semi-furnished property. This residen...']\n"
          ],
          "name": "stdout"
        }
      ]
    },
    {
      "cell_type": "code",
      "metadata": {
        "id": "VBOyQV3A2DIR"
      },
      "source": [
        ""
      ],
      "execution_count": 44,
      "outputs": []
    },
    {
      "cell_type": "code",
      "metadata": {
        "id": "Ac-fWczU5Fo6"
      },
      "source": [
        ""
      ],
      "execution_count": 45,
      "outputs": []
    },
    {
      "cell_type": "code",
      "metadata": {
        "id": "aRob8tR0_zfV"
      },
      "source": [
        ""
      ],
      "execution_count": null,
      "outputs": []
    }
  ]
}