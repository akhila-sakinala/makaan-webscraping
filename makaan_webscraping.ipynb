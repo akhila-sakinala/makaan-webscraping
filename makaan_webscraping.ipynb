{
  "nbformat": 4,
  "nbformat_minor": 0,
  "metadata": {
    "colab": {
      "name": "makaan-webscraping.ipynb",
      "provenance": [],
      "collapsed_sections": [],
      "authorship_tag": "ABX9TyMIr+9jHxRW+YXX4TitXM1F",
      "include_colab_link": true
    },
    "kernelspec": {
      "name": "python3",
      "display_name": "Python 3"
    }
  },
  "cells": [
    {
      "cell_type": "markdown",
      "metadata": {
        "id": "view-in-github",
        "colab_type": "text"
      },
      "source": [
        "<a href=\"https://colab.research.google.com/github/akhila-sakinala/makaan-webscraping/blob/main/makaan_webscraping.ipynb\" target=\"_parent\"><img src=\"https://colab.research.google.com/assets/colab-badge.svg\" alt=\"Open In Colab\"/></a>"
      ]
    },
    {
      "cell_type": "markdown",
      "metadata": {
        "id": "up-AE6_-ysCr"
      },
      "source": [
        "## Import packages"
      ]
    },
    {
      "cell_type": "code",
      "metadata": {
        "id": "cDrxUSkyymLJ"
      },
      "source": [
        "# import packages\n",
        "import requests\n",
        "from bs4 import BeautifulSoup\n",
        "import pandas as pd\n",
        "\n"
      ],
      "execution_count": 73,
      "outputs": []
    },
    {
      "cell_type": "code",
      "metadata": {
        "id": "9OaIH_0PzKtr",
        "colab": {
          "base_uri": "https://localhost:8080/"
        },
        "outputId": "693d08b3-77b0-4917-e143-0d89af08d2e0"
      },
      "source": [
        "url = \"https://www.makaan.com/hyderabad-residential-property/rent-property-in-hyderabad-city\"\n",
        "\n",
        "# Store 20 page url's\n",
        "urls = []\n",
        "for i in range(20):\n",
        "  each_url = url+'?page='+str(i)\n",
        "  urls.append(each_url)\n",
        "\n",
        "site_owner_data = []\n",
        "price_data = []\n",
        "size_data = []\n",
        "price_data = []\n",
        "status_data = []\n",
        "desc_data = []\n",
        "\n",
        "for page_url in urls:\n",
        "  response = requests.get(page_url)\n",
        "  soup = BeautifulSoup(response.text,\"html.parser\")\n",
        "  s_tag = soup.find_all('span',attrs={'class' : 'seller-type'})\n",
        "  s_val = soup.find_all('a',attrs={'class' : 'typelink'})\n",
        "  size = soup.find_all('td',attrs={'class' : 'size'})\n",
        "  p_val = soup.find_all('span',attrs={'itemprop' : 'offers'})\n",
        "  status_val = soup.find_all('tr',attrs={'class' : 'hcol w44'})\n",
        "  desc = soup.find_all('div',attrs={'class': 'txt'})\n",
        "\n",
        "  for each_owner in s_tag:\n",
        "    site_owner_data.append(each_owner.text)\n",
        "  \n",
        "  for price in s_val:\n",
        "    price_data.append(price.span.text)\n",
        "\n",
        "  for each_size in size:\n",
        "    size_data.append(each_size.span.text)\n",
        "  \n",
        "  for price in p_val:\n",
        "    price_data.append(price.text)\n",
        "\n",
        "  for status in status_val:\n",
        "    status_data.append(status.td.text)\n",
        "\n",
        "  for each_desc in desc:\n",
        "    desc_data.append(each_desc.text)\n",
        "\n",
        "# print(len(status_data))\n",
        "# print(len(desc_data))\n",
        "# print(len(size_data))\n",
        "# print(len(price_data))\n",
        "# print(len(site_owner_data))\n",
        "\n",
        "data = pd.DataFrame({'Seller_info':site_owner_data,\n",
        "              'Area':size_data,\n",
        "              'Status':status_data})\n",
        "\n",
        "data.to_csv(\"scrape_data.csv\")\n"
      ],
      "execution_count": 78,
      "outputs": [
        {
          "output_type": "stream",
          "text": [
            "400\n",
            "399\n",
            "400\n",
            "800\n",
            "400\n"
          ],
          "name": "stdout"
        }
      ]
    }
  ]
}